{
    "cells": [
        {
            "metadata": {},
            "cell_type": "markdown",
            "source": "# Forecasting Danube Water Levels"
        },
        {
            "metadata": {},
            "cell_type": "markdown",
            "source": "## Introduction\nHi! \nWelcome to the water level forecasting benchmark exercise for the Danube's measuring station \"Kienstock\" at km 2015.21. \nThere's an official [government forecast](https://www.noel.gv.at/wasserstand/#/de/Messstellen/Details/207357/WasserstandPrognose/48Stunden) which we aim to beat with an LSTM model. \nenjoy ;-)"
        },
        {
            "metadata": {},
            "cell_type": "markdown",
            "source": "## Let's first make sure we have the right versions of Tensorflow and Keras"
        },
        {
            "metadata": {},
            "cell_type": "code",
            "source": "!pip install --upgrade keras-applications keras-preprocessing setuptools tensorflow==1.14.0 keras==2.2.5",
            "execution_count": null,
            "outputs": []
        },
        {
            "metadata": {},
            "cell_type": "code",
            "source": "import tensorflow\nif not tensorflow.__version__ == '1.14.0':\n    print(tensorflow.__version__)\n    raise ValueError('please upgrade to TensorFlow 1.14.0, or restart your Kernel (Kernel->Restart & Clear Output)')\n\nimport keras\nif not keras.__version__ == '2.2.5':\n    print(keras.__version__)\n    raise ValueError('please upgrade to Keras 2.2.5, or restart your Kernel (Kernel->Restart & Clear Output)')",
            "execution_count": null,
            "outputs": []
        },
        {
            "metadata": {},
            "cell_type": "markdown",
            "source": "OK, now let's get the Keras elements we'll use."
        },
        {
            "metadata": {},
            "cell_type": "code",
            "source": "from keras.models import Sequential\nfrom keras.layers import Dense, Dropout, Activation\nfrom keras.layers import LSTM\nfrom keras.callbacks import Callback",
            "execution_count": null,
            "outputs": []
        },
        {
            "metadata": {},
            "cell_type": "markdown",
            "source": "## Now let's load all other dependencies"
        },
        {
            "metadata": {},
            "cell_type": "code",
            "source": "import numpy as np # linear algebra\nfrom numpy import concatenate\n\nimport pandas as pd # data processing, CSV file I/O (e.g. pd.read_csv)\nfrom pandas import read_csv\nfrom pandas import DataFrame\n\nimport matplotlib.pyplot as plt # plotting\nfrom mpl_toolkits.mplot3d import Axes3D\n\nimport sklearn # ML libraries\nfrom sklearn.preprocessing import MinMaxScaler\nfrom sklearn.linear_model import LinearRegression\n\nimport os # accessing directory structure\n# import sys # maybe we need this to access the file system\n\n%matplotlib inline",
            "execution_count": null,
            "outputs": []
        },
        {
            "metadata": {},
            "cell_type": "markdown",
            "source": "Let's see if we have acces to the data file"
        },
        {
            "metadata": {},
            "cell_type": "code",
            "source": "!rm * # clear current working directory",
            "execution_count": null,
            "outputs": []
        },
        {
            "metadata": {},
            "cell_type": "code",
            "source": "!wget https://emelt2.ocloud.de/index.php/s/aSS6kGMeTGXP0GW/download\n!mv download danube-waterlevel-Kienstock_2002-2019.csv",
            "execution_count": null,
            "outputs": []
        },
        {
            "metadata": {},
            "cell_type": "markdown",
            "source": "There is 1 csv file in the current version of the dataset:\n"
        },
        {
            "metadata": {
                "_kg_hide-input": false
            },
            "cell_type": "code",
            "source": "# check what files we have got\nfor dirname, _, filenames in os.walk('.'):\n    for filename in filenames:\n        print(os.path.join(dirname, filename))",
            "execution_count": null,
            "outputs": []
        },
        {
            "metadata": {},
            "cell_type": "markdown",
            "source": "The next hidden code cells define functions for plotting data. Click on the \"Code\" button in the published kernel to reveal the hidden code."
        },
        {
            "metadata": {
                "_kg_hide-input": true
            },
            "cell_type": "code",
            "source": "# Distribution graphs (histogram/bar graph) of column data\ndef plotPerColumnDistribution(df, nGraphShown, nGraphPerRow):\n    nunique = df.nunique()\n    df = df[[col for col in df if nunique[col] > 1 and nunique[col] < 50]] # For displaying purposes, pick columns that have between 1 and 50 unique values\n    nRow, nCol = df.shape\n    columnNames = list(df)\n    nGraphRow = (nCol + nGraphPerRow - 1) / nGraphPerRow\n    plt.figure(num = None, figsize = (6 * nGraphPerRow, 8 * nGraphRow), dpi = 80, facecolor = 'w', edgecolor = 'k')\n    for i in range(min(nCol, nGraphShown)):\n        plt.subplot(nGraphRow, nGraphPerRow, i + 1)\n        columnDf = df.iloc[:, i]\n        if (not np.issubdtype(type(columnDf.iloc[0]), np.number)):\n            valueCounts = columnDf.value_counts()\n            valueCounts.plot.bar()\n        else:\n            columnDf.hist()\n        plt.ylabel('counts')\n        plt.xticks(rotation = 90)\n        plt.title(f'{columnNames[i]} (column {i})')\n    plt.tight_layout(pad = 1.0, w_pad = 1.0, h_pad = 1.0)\n    plt.show()\n",
            "execution_count": null,
            "outputs": []
        },
        {
            "metadata": {
                "_kg_hide-input": true
            },
            "cell_type": "code",
            "source": "# Correlation matrix\ndef plotCorrelationMatrix(df, graphWidth):\n    filename = df.dataframeName\n    df = df.dropna('columns') # drop columns with NaN\n    df = df[[col for col in df if df[col].nunique() > 1]] # keep columns where there are more than 1 unique values\n    if df.shape[1] < 2:\n        print(f'No correlation plots shown: The number of non-NaN or constant columns ({df.shape[1]}) is less than 2')\n        return\n    corr = df.corr()\n    plt.figure(num=None, figsize=(graphWidth, graphWidth), dpi=80, facecolor='w', edgecolor='k')\n    corrMat = plt.matshow(corr, fignum = 1)\n    plt.xticks(range(len(corr.columns)), corr.columns, rotation=90)\n    plt.yticks(range(len(corr.columns)), corr.columns)\n    plt.gca().xaxis.tick_bottom()\n    plt.colorbar(corrMat)\n    plt.title(f'Correlation Matrix for {filename}', fontsize=15)\n    plt.show()\n",
            "execution_count": null,
            "outputs": []
        },
        {
            "metadata": {
                "_kg_hide-input": true
            },
            "cell_type": "code",
            "source": "# Scatter and density plots\ndef plotScatterMatrix(df, plotSize, textSize):\n    df = df.select_dtypes(include =[np.number]) # keep only numerical columns\n    # Remove rows and columns that would lead to df being singular\n    df = df.dropna('columns')\n    df = df[[col for col in df if df[col].nunique() > 1]] # keep columns where there are more than 1 unique values\n    columnNames = list(df)\n    if len(columnNames) > 10: # reduce the number of columns for matrix inversion of kernel density plots\n        columnNames = columnNames[:10]\n    df = df[columnNames]\n    ax = pd.plotting.scatter_matrix(df, alpha=0.75, figsize=[plotSize, plotSize], diagonal='kde')\n    corrs = df.corr().values\n    for i, j in zip(*plt.np.triu_indices_from(ax, k = 1)):\n        ax[i, j].annotate('Corr. coef = %.3f' % corrs[i, j], (0.8, 0.2), xycoords='axes fraction', ha='center', va='center', size=textSize)\n    plt.suptitle('Scatter and Density Plot')\n    plt.show()\n",
            "execution_count": null,
            "outputs": []
        },
        {
            "metadata": {},
            "cell_type": "markdown",
            "source": "Now we're ready to read in the data and use the plotting functions to visualize the data."
        },
        {
            "metadata": {},
            "cell_type": "markdown",
            "source": "### Let's check 1st file: danube-waterlevel-Kienstock_2002-2019.csv"
        },
        {
            "metadata": {
                "_kg_hide-input": false
            },
            "cell_type": "code",
            "source": "nRowsRead = None # specify 'None' if want to read whole file\n# danube-waterlevel-Kienstock_2002-2019.csv may have more rows in reality, but we are only loading/previewing the first 1000 rows\ndf1 = pd.read_csv('danube-waterlevel-Kienstock_2002-2019.csv', delimiter=',', nrows = nRowsRead)\ndf1.dataframeName = 'danube-waterlevel-Kienstock_2002-2019.csv'\nnRow, nCol = df1.shape\nprint(f'There are {nRow} rows and {nCol} columns')",
            "execution_count": null,
            "outputs": []
        },
        {
            "metadata": {},
            "cell_type": "markdown",
            "source": "Let's take a quick look at what the data looks like:"
        },
        {
            "metadata": {
                "_kg_hide-input": false
            },
            "cell_type": "code",
            "source": "df1.head(5)",
            "execution_count": null,
            "outputs": []
        },
        {
            "metadata": {},
            "cell_type": "markdown",
            "source": "Distribution graphs (histogram/bar graph) of sampled columns:"
        },
        {
            "metadata": {
                "_kg_hide-input": false
            },
            "cell_type": "code",
            "source": "plotPerColumnDistribution(df1, 3, 1)",
            "execution_count": null,
            "outputs": []
        },
        {
            "metadata": {},
            "cell_type": "code",
            "source": "df1.hist()",
            "execution_count": null,
            "outputs": []
        },
        {
            "metadata": {},
            "cell_type": "markdown",
            "source": "Correlation matrix:"
        },
        {
            "metadata": {
                "_kg_hide-input": false
            },
            "cell_type": "code",
            "source": "plotCorrelationMatrix(df1, 8)",
            "execution_count": null,
            "outputs": []
        },
        {
            "metadata": {},
            "cell_type": "markdown",
            "source": "Scatter and density plots:"
        },
        {
            "metadata": {
                "_kg_hide-input": false
            },
            "cell_type": "code",
            "source": "plotScatterMatrix(df1, 9, 10)",
            "execution_count": null,
            "outputs": []
        },
        {
            "metadata": {},
            "cell_type": "markdown",
            "source": "Let's continue with max values only. We are looking for flood maxima afte all, and min and mean are highly correlated."
        },
        {
            "metadata": {},
            "cell_type": "code",
            "source": "df1 = df1.loc[:, [\"date\", \"max\"]]\ndf1.head(5)",
            "execution_count": null,
            "outputs": []
        },
        {
            "metadata": {
                "scrolled": true
            },
            "cell_type": "code",
            "source": "df1_plot = df1.iloc[:,1:2].values.astype(float)\n# Visualising the Data\nplt.plot(df1_plot, color = 'blue', label = 'Water Level @ Kienstock (km 2015)')\nplt.title('Danube Water Level Historical Data')\nplt.xlabel('Time (Days)')\nplt.ylabel('max level in cm')\nplt.legend()\nplt.show()",
            "execution_count": null,
            "outputs": []
        },
        {
            "metadata": {},
            "cell_type": "markdown",
            "source": "Let's see if we have any missing data"
        },
        {
            "metadata": {},
            "cell_type": "code",
            "source": "missing_data = df1.isnull()",
            "execution_count": null,
            "outputs": []
        },
        {
            "metadata": {},
            "cell_type": "code",
            "source": "for column in missing_data.columns.values.tolist():\n    print(column)\n    print (missing_data[column].value_counts())\n    print(\"\") ",
            "execution_count": null,
            "outputs": []
        },
        {
            "metadata": {},
            "cell_type": "markdown",
            "source": "In case there are any \"Trues\" we replace the NaNs with the mean of the neighbors"
        },
        {
            "metadata": {},
            "cell_type": "code",
            "source": "for i in range (0, len(df1)):\n    if missing_data.iloc[i,1]:\n        df1.iloc[i,1] = (df1.iloc[i-1,1] + df1.iloc[i+1,1]) / 2\n        print(df1.iloc[i,1])",
            "execution_count": null,
            "outputs": []
        },
        {
            "metadata": {},
            "cell_type": "markdown",
            "source": "Let's check again"
        },
        {
            "metadata": {},
            "cell_type": "code",
            "source": "missing_data = df1.isnull()",
            "execution_count": null,
            "outputs": []
        },
        {
            "metadata": {},
            "cell_type": "code",
            "source": "for column in missing_data.columns.values.tolist():\n    print(column)\n    print (missing_data[column].value_counts())\n    print(\"\") ",
            "execution_count": null,
            "outputs": []
        },
        {
            "metadata": {},
            "cell_type": "markdown",
            "source": "Next we have to prepare the data sets"
        },
        {
            "metadata": {},
            "cell_type": "code",
            "source": "# defining some parameters\nbatchsize = 64 # needed for LSTM\ntimesteps = 8 # window size\ntest_share = 0.1 # test set size",
            "execution_count": null,
            "outputs": []
        },
        {
            "metadata": {},
            "cell_type": "code",
            "source": "def get_set_length(length, batch, timesteps):\n    # substract test_percent to be excluded from training, reserved for testset\n    modulo = int((length - 2 * timesteps) % batch)\n    return int(length - modulo)",
            "execution_count": null,
            "outputs": []
        },
        {
            "metadata": {},
            "cell_type": "code",
            "source": "# setting data set lengths\nlength_tot = len(df1)\nprint(length_tot)\nlength_train = get_set_length((length_tot * (1 - test_share)), batchsize, timesteps)\nprint(length_train)\nlength_test = get_set_length((length_tot - length_train), batchsize, timesteps)\nprint(length_test)",
            "execution_count": null,
            "outputs": []
        },
        {
            "metadata": {},
            "cell_type": "code",
            "source": "# creating data sets with feature scaling between 0 and 1.\n\nsc = MinMaxScaler(feature_range = (0, 1))\ntotal_set = df1.iloc[:,1:2].values\ntotal_set_scaled = sc.fit_transform(np.float64(total_set))\n\ntraining_set_scaled = total_set_scaled[0:length_train]\nprint(training_set_scaled.shape)\nprint(training_set_scaled[0:2])\n\ntest_set = total_set[length_train+1:length_train+length_test]\nprint(test_set.shape)\nprint(test_set[0:2])\n\ntest_set_scaled = total_set_scaled[length_train+1:length_train+length_test]\nprint(test_set_scaled.shape)\nprint(test_set_scaled[0:2])",
            "execution_count": null,
            "outputs": []
        },
        {
            "metadata": {},
            "cell_type": "markdown",
            "source": "Now let's set a baseline forecast with linear regression"
        },
        {
            "metadata": {},
            "cell_type": "code",
            "source": "# Creating data structures for linear regression with n timesteps\nlr_train_windows = []\nfor i in range(timesteps, length_train): \n    lr_train_windows.append(training_set_scaled[i-timesteps:i,0])\n\nprint(lr_train_windows[0:2])\nprint(np.array(lr_train_windows).shape)\n\nlr_test_windows = []\nfor i in range(timesteps, length_test): \n    lr_test_windows.append(test_set_scaled[i-timesteps:i,0])\n\nprint(lr_test_windows[0:2])\nprint(np.array(lr_test_windows).shape)",
            "execution_count": null,
            "outputs": []
        },
        {
            "metadata": {},
            "cell_type": "code",
            "source": "print(test_set_scaled[timesteps-1:timesteps+1])",
            "execution_count": null,
            "outputs": []
        },
        {
            "metadata": {},
            "cell_type": "code",
            "source": "y_test_orig = test_set[timesteps-1:length_test-1]\nprint(y_test_orig.shape)",
            "execution_count": null,
            "outputs": []
        },
        {
            "metadata": {},
            "cell_type": "code",
            "source": "# convert data structures to np.arrays for linear regression\nx_y_train = np.asarray(lr_train_windows)\nx_train = x_y_train[:,:timesteps-1]\ny_train = x_y_train[:,timesteps-1:timesteps]",
            "execution_count": null,
            "outputs": []
        },
        {
            "metadata": {},
            "cell_type": "code",
            "source": "# do the fit\nlr_model = LinearRegression()\nlr_model.fit(x_train, y_train)\n# the regression coefficients\nprint ('Coefficients: ', lr_model.coef_)",
            "execution_count": null,
            "outputs": []
        },
        {
            "metadata": {},
            "cell_type": "code",
            "source": "# get predicted data on the training set (for the visualization)\ny_train_pred = lr_model.predict(x_train) \n\n# inverse transform (reverse feature scaling)\ny_train_pred_unscaled = sc.inverse_transform(y_train_pred)",
            "execution_count": null,
            "outputs": []
        },
        {
            "metadata": {},
            "cell_type": "code",
            "source": "print(y_train_pred_unscaled[0:2])",
            "execution_count": null,
            "outputs": []
        },
        {
            "metadata": {},
            "cell_type": "code",
            "source": "# convert test data structures to numpy arrays\nx_y_test = np.asarray(lr_test_windows)\nx_test = x_y_test[:,:timesteps-1]\ny_test = x_y_test[:,timesteps-1:timesteps]",
            "execution_count": null,
            "outputs": []
        },
        {
            "metadata": {},
            "cell_type": "code",
            "source": "print(x_test[0:3])",
            "execution_count": null,
            "outputs": []
        },
        {
            "metadata": {},
            "cell_type": "code",
            "source": "print(y_test[0:3])",
            "execution_count": null,
            "outputs": []
        },
        {
            "metadata": {},
            "cell_type": "code",
            "source": "print(y_test_orig[0:4])",
            "execution_count": null,
            "outputs": []
        },
        {
            "metadata": {},
            "cell_type": "code",
            "source": "y_test_unscaled = sc.inverse_transform(y_test)\nprint(y_test_unscaled[0:4])",
            "execution_count": null,
            "outputs": []
        },
        {
            "metadata": {},
            "cell_type": "code",
            "source": "# get predicted data on the test set\ny_test_pred = lr_model.predict(x_test)\n\n# inverse transform (reverse feature scaling)\ny_test_pred_unscaled = sc.inverse_transform(y_test_pred)\n\nprint(y_test_pred_unscaled[0:4])",
            "execution_count": null,
            "outputs": []
        },
        {
            "metadata": {},
            "cell_type": "code",
            "source": "# calculate mean squared error on the test set predictions\ntest_residuals = y_test_pred_unscaled - y_test_orig\nlr_rmse = np.sqrt(np.sum(np.power(test_residuals,2)) / len(test_residuals))\nprint('RMSE = %.2f' % lr_rmse)",
            "execution_count": null,
            "outputs": []
        },
        {
            "metadata": {},
            "cell_type": "code",
            "source": "# calculate mean squared error on the trivial predictions\ntest_residuals = y_test_orig[1:] - y_test_orig[:-1]\nlr_rmse = np.sqrt(np.sum(np.power(test_residuals,2)) / len(test_residuals))\nprint('RMSE = %.2f' % lr_rmse)",
            "execution_count": null,
            "outputs": []
        },
        {
            "metadata": {},
            "cell_type": "code",
            "source": "# Visualising the results\nplt.plot(y_test_orig[100:125], color = 'blue', label = 'Real Water Level')\nplt.plot(y_test_pred_unscaled[100:125], color = 'green', label = 'Predicted Water Level')\nplt.plot(y_test_orig[99:124], color = 'red', label = 'Trivially Predicted Water Level')\nplt.title('Water Level at Kienstock km 2015')\nplt.xlabel('Time')\nplt.ylabel('max level in cm')\nplt.legend()\nplt.show()",
            "execution_count": null,
            "outputs": []
        },
        {
            "metadata": {},
            "cell_type": "code",
            "source": "",
            "execution_count": null,
            "outputs": []
        }
    ],
    "metadata": {
        "kernelspec": {
            "name": "python3",
            "display_name": "Python 3.6",
            "language": "python"
        },
        "language_info": {
            "name": "python",
            "version": "3.6.8",
            "mimetype": "text/x-python",
            "codemirror_mode": {
                "name": "ipython",
                "version": 3
            },
            "pygments_lexer": "ipython3",
            "nbconvert_exporter": "python",
            "file_extension": ".py"
        }
    },
    "nbformat": 4,
    "nbformat_minor": 1
}