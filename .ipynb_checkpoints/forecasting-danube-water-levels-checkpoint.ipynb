{
 "cells": [
  {
   "cell_type": "markdown",
   "metadata": {},
   "source": [
    "# Forecasting Danube Water Levels"
   ]
  },
  {
   "cell_type": "markdown",
   "metadata": {},
   "source": [
    "## Introduction\n",
    "Hi! \n",
    "Welcome to the water level forecasting benchmark exercise for the Danube's measuring station \"Kienstock\" at km 2015.21. \n",
    "There's an official [government forecast](https://www.noel.gv.at/wasserstand/#/de/Messstellen/Details/207357/WasserstandPrognose/48Stunden) which we aim to beat with an LSTM model. \n",
    "enjoy ;-)"
   ]
  },
  {
   "cell_type": "markdown",
   "metadata": {},
   "source": [
    "## Let's first make sure we have the right versions of Tensorflow and Keras"
   ]
  },
  {
   "cell_type": "code",
   "execution_count": null,
   "metadata": {},
   "outputs": [],
   "source": [
    "!pip install --upgrade keras-applications keras-preprocessing setuptools tensorflow==1.14.0 keras==2.2.5"
   ]
  },
  {
   "cell_type": "code",
   "execution_count": null,
   "metadata": {},
   "outputs": [],
   "source": [
    "import tensorflow\n",
    "if not tensorflow.__version__ == '1.14.0':\n",
    "    print(tensorflow.__version__)\n",
    "    raise ValueError('please upgrade to TensorFlow 1.14.0, or restart your Kernel (Kernel->Restart & Clear Output)')\n",
    "\n",
    "import keras\n",
    "if not keras.__version__ == '2.2.5':\n",
    "    print(keras.__version__)\n",
    "    raise ValueError('please upgrade to Keras 2.2.5, or restart your Kernel (Kernel->Restart & Clear Output)')"
   ]
  },
  {
   "cell_type": "markdown",
   "metadata": {},
   "source": [
    "OK, now let's get the Keras elements we'll use."
   ]
  },
  {
   "cell_type": "code",
   "execution_count": null,
   "metadata": {},
   "outputs": [],
   "source": [
    "from keras.models import Sequential\n",
    "from keras.layers import Dense, Dropout, Activation\n",
    "from keras.layers import LSTM\n",
    "from keras.callbacks import Callback"
   ]
  },
  {
   "cell_type": "markdown",
   "metadata": {},
   "source": [
    "## Now let's load all other dependencies"
   ]
  },
  {
   "cell_type": "code",
   "execution_count": 1,
   "metadata": {},
   "outputs": [],
   "source": [
    "import numpy as np # linear algebra\n",
    "from numpy import concatenate\n",
    "\n",
    "import pandas as pd # data processing, CSV file I/O (e.g. pd.read_csv)\n",
    "from pandas import read_csv\n",
    "from pandas import DataFrame\n",
    "\n",
    "import matplotlib.pyplot as plt # plotting\n",
    "from mpl_toolkits.mplot3d import Axes3D\n",
    "\n",
    "import sklearn # ML libraries\n",
    "from sklearn.preprocessing import MinMaxScaler\n",
    "from sklearn.linear_model import LinearRegression\n",
    "\n",
    "import os # accessing directory structure\n",
    "# import sys # maybe we need this to access the file system\n",
    "\n",
    "%matplotlib inline"
   ]
  },
  {
   "cell_type": "markdown",
   "metadata": {},
   "source": [
    "Let's see if we have acces to the data file"
   ]
  },
  {
   "cell_type": "code",
   "execution_count": 8,
   "metadata": {},
   "outputs": [
    {
     "name": "stdout",
     "output_type": "stream",
     "text": [
      "\u001b[1;34m==>\u001b[1;39m This script will install:\u001b[0m\r\n",
      "/usr/local/bin/brew\r\n",
      "/usr/local/share/doc/homebrew\r\n",
      "/usr/local/share/man/man1/brew.1\r\n",
      "/usr/local/share/zsh/site-functions/_brew\r\n",
      "/usr/local/etc/bash_completion.d/brew\r\n",
      "/usr/local/Homebrew\r\n",
      "\u001b[1;34m==>\u001b[1;39m The following existing directories will be made group writable:\u001b[0m\r\n",
      "/usr/local/bin\r\n",
      "/usr/local/share\r\n",
      "/usr/local/share/man\r\n",
      "/usr/local/share/man/man1\r\n",
      "/usr/local/share/man/man3\r\n",
      "/usr/local/share/man/man5\r\n",
      "/usr/local/share/man/man7\r\n",
      "\u001b[1;34m==>\u001b[1;39m The following existing directories will have their owner set to \u001b[4;39mmarko\u001b[0m:\u001b[0m\r\n",
      "/usr/local/bin\r\n",
      "/usr/local/share\r\n",
      "/usr/local/share/man\r\n",
      "/usr/local/share/man/man1\r\n",
      "/usr/local/share/man/man3\r\n",
      "/usr/local/share/man/man5\r\n",
      "/usr/local/share/man/man7\r\n",
      "\u001b[1;34m==>\u001b[1;39m The following existing directories will have their group set to \u001b[4;39madmin\u001b[0m:\u001b[0m\r\n",
      "/usr/local/bin\r\n",
      "/usr/local/share\r\n",
      "/usr/local/share/man\r\n",
      "/usr/local/share/man/man1\r\n",
      "/usr/local/share/man/man3\r\n",
      "/usr/local/share/man/man5\r\n",
      "/usr/local/share/man/man7\r\n",
      "\u001b[1;34m==>\u001b[1;39m The following new directories will be created:\u001b[0m\r\n",
      "/usr/local/etc\r\n",
      "/usr/local/include\r\n",
      "/usr/local/lib\r\n",
      "/usr/local/sbin\r\n",
      "/usr/local/var\r\n",
      "/usr/local/opt\r\n",
      "/usr/local/share/zsh\r\n",
      "/usr/local/share/zsh/site-functions\r\n",
      "/usr/local/var/homebrew\r\n",
      "/usr/local/var/homebrew/linked\r\n",
      "/usr/local/Cellar\r\n",
      "/usr/local/Caskroom\r\n",
      "/usr/local/Homebrew\r\n",
      "/usr/local/Frameworks\r\n",
      "\u001b[1;34m==>\u001b[1;39m The Xcode Command Line Tools will be installed.\u001b[0m\r\n",
      "\r\n",
      "Press RETURN to continue or any other key to abort\r\n"
     ]
    }
   ],
   "source": [
    "!ruby -e \"$(curl -fsSL https://raw.githubusercontent.com/Homebrew/install/master/install)\""
   ]
  },
  {
   "cell_type": "code",
   "execution_count": 5,
   "metadata": {},
   "outputs": [],
   "source": [
    "!rm * # clear current working directory"
   ]
  },
  {
   "cell_type": "code",
   "execution_count": 6,
   "metadata": {},
   "outputs": [
    {
     "name": "stdout",
     "output_type": "stream",
     "text": [
      "/bin/sh: wget: command not found\n",
      "mv: rename download to danube-waterlevel-Kienstock_2002-2019.csv: No such file or directory\n"
     ]
    }
   ],
   "source": [
    "!wget https://github.com/spegelm/fdwl/blob/master/danube-waterlevel-Kienstock_2002-2019.csv\n",
    "# !mv download danube-waterlevel-Kienstock_2002-2019.csv"
   ]
  },
  {
   "cell_type": "markdown",
   "metadata": {},
   "source": [
    "There is 1 csv file in the current version of the dataset:\n"
   ]
  },
  {
   "cell_type": "code",
   "execution_count": 7,
   "metadata": {
    "_kg_hide-input": false
   },
   "outputs": [
    {
     "name": "stdout",
     "output_type": "stream",
     "text": [
      "./.ipynb_checkpoints/forecasting-danube-water-levels-checkpoint.ipynb\n",
      "./.git/config\n",
      "./.git/HEAD\n",
      "./.git/description\n",
      "./.git/index\n",
      "./.git/packed-refs\n",
      "./.git/COMMIT_EDITMSG\n",
      "./.git/FETCH_HEAD\n",
      "./.git/objects/51/338aad7d42a1be012296241c0d5d507c2c8bf3\n",
      "./.git/objects/f3/2954698a642733c711dd6dcd3d12c2ab68d869\n",
      "./.git/objects/pack/pack-370ff5a11ff0bda08db4aab74cf5d1e292486f1a.idx\n",
      "./.git/objects/pack/pack-370ff5a11ff0bda08db4aab74cf5d1e292486f1a.pack\n",
      "./.git/objects/9a/27f4abdb4749ed04f9a4b84bf6aa5d82ff2549\n",
      "./.git/info/exclude\n",
      "./.git/logs/HEAD\n",
      "./.git/logs/refs/heads/master\n",
      "./.git/logs/refs/remotes/origin/HEAD\n",
      "./.git/logs/refs/remotes/origin/master\n",
      "./.git/hooks/commit-msg.sample\n",
      "./.git/hooks/pre-rebase.sample\n",
      "./.git/hooks/pre-commit.sample\n",
      "./.git/hooks/applypatch-msg.sample\n",
      "./.git/hooks/fsmonitor-watchman.sample\n",
      "./.git/hooks/pre-receive.sample\n",
      "./.git/hooks/prepare-commit-msg.sample\n",
      "./.git/hooks/post-update.sample\n",
      "./.git/hooks/pre-applypatch.sample\n",
      "./.git/hooks/pre-push.sample\n",
      "./.git/hooks/update.sample\n",
      "./.git/refs/heads/master\n",
      "./.git/refs/remotes/origin/HEAD\n",
      "./.git/refs/remotes/origin/master\n"
     ]
    }
   ],
   "source": [
    "# check what files we have got\n",
    "for dirname, _, filenames in os.walk('.'):\n",
    "    for filename in filenames:\n",
    "        print(os.path.join(dirname, filename))"
   ]
  },
  {
   "cell_type": "markdown",
   "metadata": {},
   "source": [
    "The next hidden code cells define functions for plotting data. Click on the \"Code\" button in the published kernel to reveal the hidden code."
   ]
  },
  {
   "cell_type": "code",
   "execution_count": null,
   "metadata": {
    "_kg_hide-input": true
   },
   "outputs": [],
   "source": [
    "# Distribution graphs (histogram/bar graph) of column data\n",
    "def plotPerColumnDistribution(df, nGraphShown, nGraphPerRow):\n",
    "    nunique = df.nunique()\n",
    "    df = df[[col for col in df if nunique[col] > 1 and nunique[col] < 50]] # For displaying purposes, pick columns that have between 1 and 50 unique values\n",
    "    nRow, nCol = df.shape\n",
    "    columnNames = list(df)\n",
    "    nGraphRow = (nCol + nGraphPerRow - 1) / nGraphPerRow\n",
    "    plt.figure(num = None, figsize = (6 * nGraphPerRow, 8 * nGraphRow), dpi = 80, facecolor = 'w', edgecolor = 'k')\n",
    "    for i in range(min(nCol, nGraphShown)):\n",
    "        plt.subplot(nGraphRow, nGraphPerRow, i + 1)\n",
    "        columnDf = df.iloc[:, i]\n",
    "        if (not np.issubdtype(type(columnDf.iloc[0]), np.number)):\n",
    "            valueCounts = columnDf.value_counts()\n",
    "            valueCounts.plot.bar()\n",
    "        else:\n",
    "            columnDf.hist()\n",
    "        plt.ylabel('counts')\n",
    "        plt.xticks(rotation = 90)\n",
    "        plt.title(f'{columnNames[i]} (column {i})')\n",
    "    plt.tight_layout(pad = 1.0, w_pad = 1.0, h_pad = 1.0)\n",
    "    plt.show()\n"
   ]
  },
  {
   "cell_type": "code",
   "execution_count": null,
   "metadata": {
    "_kg_hide-input": true
   },
   "outputs": [],
   "source": [
    "# Correlation matrix\n",
    "def plotCorrelationMatrix(df, graphWidth):\n",
    "    filename = df.dataframeName\n",
    "    df = df.dropna('columns') # drop columns with NaN\n",
    "    df = df[[col for col in df if df[col].nunique() > 1]] # keep columns where there are more than 1 unique values\n",
    "    if df.shape[1] < 2:\n",
    "        print(f'No correlation plots shown: The number of non-NaN or constant columns ({df.shape[1]}) is less than 2')\n",
    "        return\n",
    "    corr = df.corr()\n",
    "    plt.figure(num=None, figsize=(graphWidth, graphWidth), dpi=80, facecolor='w', edgecolor='k')\n",
    "    corrMat = plt.matshow(corr, fignum = 1)\n",
    "    plt.xticks(range(len(corr.columns)), corr.columns, rotation=90)\n",
    "    plt.yticks(range(len(corr.columns)), corr.columns)\n",
    "    plt.gca().xaxis.tick_bottom()\n",
    "    plt.colorbar(corrMat)\n",
    "    plt.title(f'Correlation Matrix for {filename}', fontsize=15)\n",
    "    plt.show()\n"
   ]
  },
  {
   "cell_type": "code",
   "execution_count": null,
   "metadata": {
    "_kg_hide-input": true
   },
   "outputs": [],
   "source": [
    "# Scatter and density plots\n",
    "def plotScatterMatrix(df, plotSize, textSize):\n",
    "    df = df.select_dtypes(include =[np.number]) # keep only numerical columns\n",
    "    # Remove rows and columns that would lead to df being singular\n",
    "    df = df.dropna('columns')\n",
    "    df = df[[col for col in df if df[col].nunique() > 1]] # keep columns where there are more than 1 unique values\n",
    "    columnNames = list(df)\n",
    "    if len(columnNames) > 10: # reduce the number of columns for matrix inversion of kernel density plots\n",
    "        columnNames = columnNames[:10]\n",
    "    df = df[columnNames]\n",
    "    ax = pd.plotting.scatter_matrix(df, alpha=0.75, figsize=[plotSize, plotSize], diagonal='kde')\n",
    "    corrs = df.corr().values\n",
    "    for i, j in zip(*plt.np.triu_indices_from(ax, k = 1)):\n",
    "        ax[i, j].annotate('Corr. coef = %.3f' % corrs[i, j], (0.8, 0.2), xycoords='axes fraction', ha='center', va='center', size=textSize)\n",
    "    plt.suptitle('Scatter and Density Plot')\n",
    "    plt.show()\n"
   ]
  },
  {
   "cell_type": "markdown",
   "metadata": {},
   "source": [
    "Now we're ready to read in the data and use the plotting functions to visualize the data."
   ]
  },
  {
   "cell_type": "markdown",
   "metadata": {},
   "source": [
    "### Let's check 1st file: danube-waterlevel-Kienstock_2002-2019.csv"
   ]
  },
  {
   "cell_type": "code",
   "execution_count": null,
   "metadata": {
    "_kg_hide-input": false
   },
   "outputs": [],
   "source": [
    "nRowsRead = None # specify 'None' if want to read whole file\n",
    "# danube-waterlevel-Kienstock_2002-2019.csv may have more rows in reality, but we are only loading/previewing the first 1000 rows\n",
    "df1 = pd.read_csv('danube-waterlevel-Kienstock_2002-2019.csv', delimiter=',', nrows = nRowsRead)\n",
    "df1.dataframeName = 'danube-waterlevel-Kienstock_2002-2019.csv'\n",
    "nRow, nCol = df1.shape\n",
    "print(f'There are {nRow} rows and {nCol} columns')"
   ]
  },
  {
   "cell_type": "markdown",
   "metadata": {},
   "source": [
    "Let's take a quick look at what the data looks like:"
   ]
  },
  {
   "cell_type": "code",
   "execution_count": null,
   "metadata": {
    "_kg_hide-input": false
   },
   "outputs": [],
   "source": [
    "df1.head(5)"
   ]
  },
  {
   "cell_type": "markdown",
   "metadata": {},
   "source": [
    "Distribution graphs (histogram/bar graph) of sampled columns:"
   ]
  },
  {
   "cell_type": "code",
   "execution_count": null,
   "metadata": {
    "_kg_hide-input": false
   },
   "outputs": [],
   "source": [
    "plotPerColumnDistribution(df1, 3, 1)"
   ]
  },
  {
   "cell_type": "code",
   "execution_count": null,
   "metadata": {},
   "outputs": [],
   "source": [
    "df1.hist()"
   ]
  },
  {
   "cell_type": "markdown",
   "metadata": {},
   "source": [
    "Correlation matrix:"
   ]
  },
  {
   "cell_type": "code",
   "execution_count": null,
   "metadata": {
    "_kg_hide-input": false
   },
   "outputs": [],
   "source": [
    "plotCorrelationMatrix(df1, 8)"
   ]
  },
  {
   "cell_type": "markdown",
   "metadata": {},
   "source": [
    "Scatter and density plots:"
   ]
  },
  {
   "cell_type": "code",
   "execution_count": null,
   "metadata": {
    "_kg_hide-input": false
   },
   "outputs": [],
   "source": [
    "plotScatterMatrix(df1, 9, 10)"
   ]
  },
  {
   "cell_type": "markdown",
   "metadata": {},
   "source": [
    "Let's continue with max values only. We are looking for flood maxima afte all, and min and mean are highly correlated."
   ]
  },
  {
   "cell_type": "code",
   "execution_count": null,
   "metadata": {},
   "outputs": [],
   "source": [
    "df1 = df1.loc[:, [\"date\", \"max\"]]\n",
    "df1.head(5)"
   ]
  },
  {
   "cell_type": "code",
   "execution_count": null,
   "metadata": {
    "scrolled": true
   },
   "outputs": [],
   "source": [
    "df1_plot = df1.iloc[:,1:2].values.astype(float)\n",
    "# Visualising the Data\n",
    "plt.plot(df1_plot, color = 'blue', label = 'Water Level @ Kienstock (km 2015)')\n",
    "plt.title('Danube Water Level Historical Data')\n",
    "plt.xlabel('Time (Days)')\n",
    "plt.ylabel('max level in cm')\n",
    "plt.legend()\n",
    "plt.show()"
   ]
  },
  {
   "cell_type": "markdown",
   "metadata": {},
   "source": [
    "Let's see if we have any missing data"
   ]
  },
  {
   "cell_type": "code",
   "execution_count": null,
   "metadata": {},
   "outputs": [],
   "source": [
    "missing_data = df1.isnull()"
   ]
  },
  {
   "cell_type": "code",
   "execution_count": null,
   "metadata": {},
   "outputs": [],
   "source": [
    "for column in missing_data.columns.values.tolist():\n",
    "    print(column)\n",
    "    print (missing_data[column].value_counts())\n",
    "    print(\"\") "
   ]
  },
  {
   "cell_type": "markdown",
   "metadata": {},
   "source": [
    "In case there are any \"Trues\" we replace the NaNs with the mean of the neighbors"
   ]
  },
  {
   "cell_type": "code",
   "execution_count": null,
   "metadata": {},
   "outputs": [],
   "source": [
    "for i in range (0, len(df1)):\n",
    "    if missing_data.iloc[i,1]:\n",
    "        df1.iloc[i,1] = (df1.iloc[i-1,1] + df1.iloc[i+1,1]) / 2\n",
    "        print(df1.iloc[i,1])"
   ]
  },
  {
   "cell_type": "markdown",
   "metadata": {},
   "source": [
    "Let's check again"
   ]
  },
  {
   "cell_type": "code",
   "execution_count": null,
   "metadata": {},
   "outputs": [],
   "source": [
    "missing_data = df1.isnull()"
   ]
  },
  {
   "cell_type": "code",
   "execution_count": null,
   "metadata": {},
   "outputs": [],
   "source": [
    "for column in missing_data.columns.values.tolist():\n",
    "    print(column)\n",
    "    print (missing_data[column].value_counts())\n",
    "    print(\"\") "
   ]
  },
  {
   "cell_type": "markdown",
   "metadata": {},
   "source": [
    "Next we have to prepare the data sets"
   ]
  },
  {
   "cell_type": "code",
   "execution_count": null,
   "metadata": {},
   "outputs": [],
   "source": [
    "# defining some parameters\n",
    "batchsize = 64 # needed for LSTM\n",
    "timesteps = 8 # window size\n",
    "test_share = 0.1 # test set size"
   ]
  },
  {
   "cell_type": "code",
   "execution_count": null,
   "metadata": {},
   "outputs": [],
   "source": [
    "def get_set_length(length, batch, timesteps):\n",
    "    # substract test_percent to be excluded from training, reserved for testset\n",
    "    modulo = int((length - 2 * timesteps) % batch)\n",
    "    return int(length - modulo)"
   ]
  },
  {
   "cell_type": "code",
   "execution_count": null,
   "metadata": {},
   "outputs": [],
   "source": [
    "# setting data set lengths\n",
    "length_tot = len(df1)\n",
    "print(length_tot)\n",
    "length_train = get_set_length((length_tot * (1 - test_share)), batchsize, timesteps)\n",
    "print(length_train)\n",
    "length_test = get_set_length((length_tot - length_train), batchsize, timesteps)\n",
    "print(length_test)"
   ]
  },
  {
   "cell_type": "code",
   "execution_count": null,
   "metadata": {},
   "outputs": [],
   "source": [
    "# creating data sets with feature scaling between 0 and 1.\n",
    "\n",
    "sc = MinMaxScaler(feature_range = (0, 1))\n",
    "total_set = df1.iloc[:,1:2].values\n",
    "total_set_scaled = sc.fit_transform(np.float64(total_set))\n",
    "\n",
    "training_set_scaled = total_set_scaled[0:length_train]\n",
    "print(training_set_scaled.shape)\n",
    "print(training_set_scaled[0:2])\n",
    "\n",
    "test_set = total_set[length_train+1:length_train+length_test]\n",
    "print(test_set.shape)\n",
    "print(test_set[0:2])\n",
    "\n",
    "test_set_scaled = total_set_scaled[length_train+1:length_train+length_test]\n",
    "print(test_set_scaled.shape)\n",
    "print(test_set_scaled[0:2])"
   ]
  },
  {
   "cell_type": "markdown",
   "metadata": {},
   "source": [
    "Now let's set a baseline forecast with linear regression"
   ]
  },
  {
   "cell_type": "code",
   "execution_count": null,
   "metadata": {},
   "outputs": [],
   "source": [
    "# Creating data structures for linear regression with n timesteps\n",
    "lr_train_windows = []\n",
    "for i in range(timesteps, length_train): \n",
    "    lr_train_windows.append(training_set_scaled[i-timesteps:i,0])\n",
    "\n",
    "print(lr_train_windows[0:2])\n",
    "print(np.array(lr_train_windows).shape)\n",
    "\n",
    "lr_test_windows = []\n",
    "for i in range(timesteps, length_test): \n",
    "    lr_test_windows.append(test_set_scaled[i-timesteps:i,0])\n",
    "\n",
    "print(lr_test_windows[0:2])\n",
    "print(np.array(lr_test_windows).shape)"
   ]
  },
  {
   "cell_type": "code",
   "execution_count": null,
   "metadata": {},
   "outputs": [],
   "source": [
    "print(test_set_scaled[timesteps-1:timesteps+1])"
   ]
  },
  {
   "cell_type": "code",
   "execution_count": null,
   "metadata": {},
   "outputs": [],
   "source": [
    "y_test_orig = test_set[timesteps-1:length_test-1]\n",
    "print(y_test_orig.shape)"
   ]
  },
  {
   "cell_type": "code",
   "execution_count": null,
   "metadata": {},
   "outputs": [],
   "source": [
    "# convert data structures to np.arrays for linear regression\n",
    "x_y_train = np.asarray(lr_train_windows)\n",
    "x_train = x_y_train[:,:timesteps-1]\n",
    "y_train = x_y_train[:,timesteps-1:timesteps]"
   ]
  },
  {
   "cell_type": "code",
   "execution_count": null,
   "metadata": {},
   "outputs": [],
   "source": [
    "# do the fit\n",
    "lr_model = LinearRegression()\n",
    "lr_model.fit(x_train, y_train)\n",
    "# the regression coefficients\n",
    "print ('Coefficients: ', lr_model.coef_)"
   ]
  },
  {
   "cell_type": "code",
   "execution_count": null,
   "metadata": {},
   "outputs": [],
   "source": [
    "# get predicted data on the training set (for the visualization)\n",
    "y_train_pred = lr_model.predict(x_train) \n",
    "\n",
    "# inverse transform (reverse feature scaling)\n",
    "y_train_pred_unscaled = sc.inverse_transform(y_train_pred)"
   ]
  },
  {
   "cell_type": "code",
   "execution_count": null,
   "metadata": {},
   "outputs": [],
   "source": [
    "print(y_train_pred_unscaled[0:2])"
   ]
  },
  {
   "cell_type": "code",
   "execution_count": null,
   "metadata": {},
   "outputs": [],
   "source": [
    "# convert test data structures to numpy arrays\n",
    "x_y_test = np.asarray(lr_test_windows)\n",
    "x_test = x_y_test[:,:timesteps-1]\n",
    "y_test = x_y_test[:,timesteps-1:timesteps]"
   ]
  },
  {
   "cell_type": "code",
   "execution_count": null,
   "metadata": {},
   "outputs": [],
   "source": [
    "print(x_test[0:3])"
   ]
  },
  {
   "cell_type": "code",
   "execution_count": null,
   "metadata": {},
   "outputs": [],
   "source": [
    "print(y_test[0:3])"
   ]
  },
  {
   "cell_type": "code",
   "execution_count": null,
   "metadata": {},
   "outputs": [],
   "source": [
    "print(y_test_orig[0:4])"
   ]
  },
  {
   "cell_type": "code",
   "execution_count": null,
   "metadata": {},
   "outputs": [],
   "source": [
    "y_test_unscaled = sc.inverse_transform(y_test)\n",
    "print(y_test_unscaled[0:4])"
   ]
  },
  {
   "cell_type": "code",
   "execution_count": null,
   "metadata": {},
   "outputs": [],
   "source": [
    "# get predicted data on the test set\n",
    "y_test_pred = lr_model.predict(x_test)\n",
    "\n",
    "# inverse transform (reverse feature scaling)\n",
    "y_test_pred_unscaled = sc.inverse_transform(y_test_pred)\n",
    "\n",
    "print(y_test_pred_unscaled[0:4])"
   ]
  },
  {
   "cell_type": "code",
   "execution_count": null,
   "metadata": {},
   "outputs": [],
   "source": [
    "# calculate mean squared error on the test set predictions\n",
    "test_residuals = y_test_pred_unscaled - y_test_orig\n",
    "lr_rmse = np.sqrt(np.sum(np.power(test_residuals,2)) / len(test_residuals))\n",
    "print('RMSE = %.2f' % lr_rmse)"
   ]
  },
  {
   "cell_type": "code",
   "execution_count": null,
   "metadata": {},
   "outputs": [],
   "source": [
    "# calculate mean squared error on the trivial predictions\n",
    "test_residuals = y_test_orig[1:] - y_test_orig[:-1]\n",
    "lr_rmse = np.sqrt(np.sum(np.power(test_residuals,2)) / len(test_residuals))\n",
    "print('RMSE = %.2f' % lr_rmse)"
   ]
  },
  {
   "cell_type": "code",
   "execution_count": null,
   "metadata": {},
   "outputs": [],
   "source": [
    "# Visualising the results\n",
    "plt.plot(y_test_orig[100:125], color = 'blue', label = 'Real Water Level')\n",
    "plt.plot(y_test_pred_unscaled[100:125], color = 'green', label = 'Predicted Water Level')\n",
    "plt.plot(y_test_orig[99:124], color = 'red', label = 'Trivially Predicted Water Level')\n",
    "plt.title('Water Level at Kienstock km 2015')\n",
    "plt.xlabel('Time')\n",
    "plt.ylabel('max level in cm')\n",
    "plt.legend()\n",
    "plt.show()"
   ]
  },
  {
   "cell_type": "code",
   "execution_count": null,
   "metadata": {},
   "outputs": [],
   "source": []
  }
 ],
 "metadata": {
  "kernelspec": {
   "display_name": "Python 3",
   "language": "python",
   "name": "python3"
  },
  "language_info": {
   "codemirror_mode": {
    "name": "ipython",
    "version": 3
   },
   "file_extension": ".py",
   "mimetype": "text/x-python",
   "name": "python",
   "nbconvert_exporter": "python",
   "pygments_lexer": "ipython3",
   "version": "3.7.4"
  }
 },
 "nbformat": 4,
 "nbformat_minor": 1
}
